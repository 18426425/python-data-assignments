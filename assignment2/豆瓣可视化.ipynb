{
 "cells": [
  {
   "cell_type": "code",
   "execution_count": 1,
   "metadata": {},
   "outputs": [],
   "source": [
    "#-*- coding: utf-8 -*-"
   ]
  },
  {
   "cell_type": "code",
   "execution_count": 3,
   "metadata": {},
   "outputs": [
    {
     "name": "stdout",
     "output_type": "stream",
     "text": [
      "Collecting pyecharts\n",
      "  Using cached https://files.pythonhosted.org/packages/52/b8/e46a41c44176cd247cb1fd437e38e179ea604de28c91755c30be1046772c/pyecharts-0.5.11-py2.py3-none-any.whl\n",
      "Requirement already satisfied: future in ./anaconda3/lib/python3.7/site-packages (from pyecharts) (0.17.1)\n",
      "Requirement already satisfied: pillow in ./anaconda3/lib/python3.7/site-packages (from pyecharts) (5.2.0)\n",
      "Requirement already satisfied: jupyter-echarts-pypkg==0.1.2 in ./anaconda3/lib/python3.7/site-packages (from pyecharts) (0.1.2)\n",
      "Collecting pyecharts-javascripthon==0.0.6 (from pyecharts)\n",
      "  Using cached https://files.pythonhosted.org/packages/6f/68/23644a394341fef4cbcb48a3fa4b2816408a13a1fa3281cf9030b2ac2d67/pyecharts_javascripthon-0.0.6-py2.py3-none-any.whl\n",
      "Requirement already satisfied: lml==0.0.2 in ./anaconda3/lib/python3.7/site-packages (from pyecharts) (0.0.2)\n",
      "Requirement already satisfied: jinja2 in ./anaconda3/lib/python3.7/site-packages (from pyecharts) (2.10)\n",
      "Requirement already satisfied: pyecharts-jupyter-installer==0.0.3 in ./anaconda3/lib/python3.7/site-packages (from jupyter-echarts-pypkg==0.1.2->pyecharts) (0.0.3)\n",
      "Collecting javascripthon>=0.10; python_version > \"3.4\" (from pyecharts-javascripthon==0.0.6->pyecharts)\n",
      "Requirement already satisfied: MarkupSafe>=0.23 in ./anaconda3/lib/python3.7/site-packages (from jinja2->pyecharts) (1.0)\n",
      "Collecting dukpy (from javascripthon>=0.10; python_version > \"3.4\"->pyecharts-javascripthon==0.0.6->pyecharts)\n",
      "  Using cached https://files.pythonhosted.org/packages/0e/d4/7ebef46a9fe8c5fb0227531b08867b7ab4447259fbb1c29efd41e2c1b184/dukpy-0.2.2.tar.gz\n",
      "Requirement already satisfied: setuptools in ./anaconda3/lib/python3.7/site-packages (from javascripthon>=0.10; python_version > \"3.4\"->pyecharts-javascripthon==0.0.6->pyecharts) (40.2.0)\n",
      "Requirement already satisfied: macropy3==1.1.0b2 in ./anaconda3/lib/python3.7/site-packages (from javascripthon>=0.10; python_version > \"3.4\"->pyecharts-javascripthon==0.0.6->pyecharts) (1.1.0b2)\n",
      "Building wheels for collected packages: dukpy\n",
      "  Running setup.py bdist_wheel for dukpy ... \u001b[?25ldone\n",
      "\u001b[?25h  Stored in directory: /Users/amberyu/Library/Caches/pip/wheels/75/36/c3/6b6172234b2926013669c9bfead9e2147113a3134ff0719d52\n",
      "Successfully built dukpy\n",
      "Installing collected packages: dukpy, javascripthon, pyecharts-javascripthon, pyecharts\n",
      "Successfully installed dukpy-0.2.2 javascripthon-0.10 pyecharts-0.5.11 pyecharts-javascripthon-0.0.6\n"
     ]
    }
   ],
   "source": [
    "!pip install pyecharts"
   ]
  },
  {
   "cell_type": "code",
   "execution_count": 4,
   "metadata": {},
   "outputs": [],
   "source": [
    "from collections import Counter"
   ]
  },
  {
   "cell_type": "code",
   "execution_count": 5,
   "metadata": {},
   "outputs": [
    {
     "name": "stderr",
     "output_type": "stream",
     "text": [
      "ERROR:lml.utils:failed to import pyecharts_snapshot\n",
      "Traceback (most recent call last):\n",
      "  File \"/Users/amberyu/anaconda3/lib/python3.7/site-packages/lml/utils.py\", line 43, in do_import\n",
      "    plugin_module = __import__(plugin_module_name)\n",
      "ModuleNotFoundError: No module named 'pyecharts_snapshot'\n"
     ]
    }
   ],
   "source": [
    "from pyecharts import WordCloud"
   ]
  },
  {
   "cell_type": "code",
   "execution_count": 6,
   "metadata": {},
   "outputs": [],
   "source": [
    "from pyecharts import Bar"
   ]
  },
  {
   "cell_type": "code",
   "execution_count": 7,
   "metadata": {},
   "outputs": [],
   "source": [
    "import pandas as pd"
   ]
  },
  {
   "cell_type": "code",
   "execution_count": 8,
   "metadata": {},
   "outputs": [],
   "source": [
    "path = '/Users/amberyu/豆瓣最终/豆瓣读书top250-2.csv'"
   ]
  },
  {
   "cell_type": "code",
   "execution_count": 9,
   "metadata": {},
   "outputs": [
    {
     "name": "stdout",
     "output_type": "stream",
     "text": [
      "['                 353596', '                 328746', '                 274607', '                 241257', '                 216746', '                 195462', '                 190080', '                 208764', '                 172749', '                 151070', '                 144478', '                 146546', '                 147921', '                 139962', '                 121925', '                 114279', '                 114295', '                 118771', '                 103635', '                 112496', '                 98612', '                 98211', '                 95999', '                 98020', '                 89700', '                 96737', '                 98328', '                 91227', '                 85121', '                 95576', '                 81416', '                 84720', '                 87929', '                 78654', '                 85262', '                 78669', '                 79884', '                 76645', '                 83521', '                 75560', '                 80333', '                 75397', '                 74564', '                 68973', '                 69912', '                 68986', '                 69939', '                 63198', '                 62099', '                 67169', '                 65402', '                 68998', '                 67373', '                 61186', '                 65402', '                 58976', '                 64492', '                 57410', '                 65112', '                 61876', '                 63195', '                 57926', '                 61879', '                 56141', '                 62131', '                 57718', '                 52973', '                 58335', '                 57709', '                 53214', '                 53696', '                 53686', '                 50509', '                 50653', '                 47372', '                 53399', '                 46800', '                 52202', '                 45066', '                 46056', '                 48086', '                 46775', '                 49105', '                 43649', '                 48593', '                 43178', '                 42551', '                 46296', '                 43536', '                 45625', '                 45339', '                 46149', '                 40514', '                 43760', '                 44340', '                 39239', '                 43423', '                 41496', '                 41039', '                 36720', '                 35360', '                 38509', '                 37084', '                 37685', '                 39351', '                 39020', '                 35542', '                 36197', '                 37508', '                 33225', '                 37079', '                 32984', '                 34045', '                 33689', '                 34082', '                 36529', '                 33069', '                 32249', '                 31729', '                 31990', '                 33594', '                 32861', '                 31528', '                 34966', '                 32258', '                 32844', '                 32633', '                 28107', '                 29747', '                 33173', '                 29597', '                 30543', '                 30067', '                 30304', '                 31921', '                 32210', '                 32079', '                 31451', '                 30723', '                 28215', '                 29161', '                 28201', '                 26349', '                 29605', '                 29517', '                 29925', '                 28168', '                 25928', '                 27651', '                 27688', '                 29021', '                 26426', '                 25956', '                 28006', '                 28152', '                 27479', '                 24940', '                 28642', '                 26057', '                 26991', '                 27997', '                 26462', '                 26382', '                 28384', '                 24893', '                 27433', '                 25072', '                 24471', '                 25958', '                 27603', '                 24764', '                 26184', '                 26341', '                 25990', '                 25377', '                 25877', '                 25384', '                 24162', '                 24453', '                 24038', '                 24435', '                 24341', '                 24762', '                 23764', '                 24675', '                 25513', '                 22591', '                 25003', '                 22405', '                 21456', '                 23757', '                 22489', '                 21538', '                 22820', '                 21820', '                 22083', '                 21250', '                 20200', '                 21758', '                 22278', '                 19796', '                 20502', '                 21740', '                 21159', '                 21032', '                 20297', '                 19270', '                 18913', '                 20083', '                 18349', '                 18870', '                 20347', '                 20544', '                 20121', '                 18493', '                 18073', '                 18985', '                 20085', '                 19244', '                 18218', '                 19728', '                 20268', '                 19127', '                 18380', '                 17419', '                 18594', '                 18323', '                 19631', '                 18472', '                 19383', '                 17508', '                 19223', '                 17915', '                 17533', '                 18398', '                 18564', '                 18168', '                 19079', '                 17607', '                 17249', '                 17117', '                 17737', '                 18660', '                 17211', '                 17815', '                 18521', '                 16221', '                 17643', '                 15167', '                 15696']\n"
     ]
    }
   ],
   "source": [
    "with open(path,'r',encoding = 'gb18030') as f1:\n",
    "    data = pd.read_csv(f1)\n",
    "    #print(data.head())\n",
    "    #print(data.describe())\n",
    "    bar = Bar(\"Bar\", \"书名评分\")\n",
    "    bar.add(\"评分\", data['书名'],data['评分'])\n",
    "    # bar.print_echarts_options() \n",
    "    bar.render('pingfen.html')  \n",
    "    \n",
    "    num = data['评价人数']\n",
    "    num = list(num)\n",
    "    nums = []\n",
    "    for a in num:\n",
    "        a = a[0:-4]\n",
    "        nums.append(a)\n",
    "    print(nums)\n",
    "    bar = Bar(\"Bar\", \"\")\n",
    "    bar.add(\"评分\", data['书名'],nums)\n",
    "    # bar.print_echarts_options() \n",
    "    bar.render('pingjiarenshu.html')   "
   ]
  }
 ],
 "metadata": {
  "kernelspec": {
   "display_name": "Python 3",
   "language": "python",
   "name": "python3"
  },
  "language_info": {
   "codemirror_mode": {
    "name": "ipython",
    "version": 3
   },
   "file_extension": ".py",
   "mimetype": "text/x-python",
   "name": "python",
   "nbconvert_exporter": "python",
   "pygments_lexer": "ipython3",
   "version": "3.7.0"
  }
 },
 "nbformat": 4,
 "nbformat_minor": 2
}
