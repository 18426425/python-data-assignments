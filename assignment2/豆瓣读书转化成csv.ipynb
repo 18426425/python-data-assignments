{
 "cells": [
  {
   "cell_type": "code",
   "execution_count": 1,
   "metadata": {},
   "outputs": [],
   "source": [
    "#coding=utf-8"
   ]
  },
  {
   "cell_type": "code",
   "execution_count": 2,
   "metadata": {},
   "outputs": [],
   "source": [
    "import pandas as pd"
   ]
  },
  {
   "cell_type": "code",
   "execution_count": 3,
   "metadata": {},
   "outputs": [],
   "source": [
    "path1 = '/Users/amberyu/豆瓣最终/豆瓣读书top250-2.txt'\n",
    "path2 = '/Users/amberyu/豆瓣最终/豆瓣读书top250-2.csv'"
   ]
  },
  {
   "cell_type": "code",
   "execution_count": 4,
   "metadata": {},
   "outputs": [],
   "source": [
    "with open(path1,'r',encoding ='utf-8') as f1:\n",
    "    lines = f1.readlines()\n",
    "    data = []\n",
    "    i = 0\n",
    "    j = 0\n",
    "    for line in lines:\n",
    "        if i % 8 == 0:\n",
    "            data.append([line[3:]])\n",
    "            #print(data)\n",
    "            i += 1\n",
    "        else:\n",
    "            if i % 8 == 1:\n",
    "                dat = line[3:].split('/')\n",
    "                data[j].append(dat)\n",
    "                #print(data)\n",
    "                i += 1\n",
    "            elif i % 8 == 7:\n",
    "                i += 1\n",
    "                j += 1\n",
    "            else:\n",
    "                data[j].append(line[3:])\n",
    "                i += 1\n",
    "                \n",
    "                \n",
    "                \n",
    "    columns=['书名','作者','评分','a','评价人数','b','简介']\n",
    "    #用pandas将数据存储为csv格式\n",
    "    data= pd.DataFrame(columns = columns , data = data)\n",
    "    data.drop(columns = ['a', 'b'])\n",
    "    data.to_csv(path2,encoding='gb18030')        "
   ]
  }
 ],
 "metadata": {
  "kernelspec": {
   "display_name": "Python 3",
   "language": "python",
   "name": "python3"
  },
  "language_info": {
   "codemirror_mode": {
    "name": "ipython",
    "version": 3
   },
   "file_extension": ".py",
   "mimetype": "text/x-python",
   "name": "python",
   "nbconvert_exporter": "python",
   "pygments_lexer": "ipython3",
   "version": "3.7.0"
  }
 },
 "nbformat": 4,
 "nbformat_minor": 2
}
