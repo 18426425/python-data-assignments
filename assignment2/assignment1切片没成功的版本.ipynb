{
 "cells": [
  {
   "cell_type": "code",
   "execution_count": 1,
   "metadata": {},
   "outputs": [],
   "source": [
    "import requests\n",
    "import csv\n",
    "import pandas\n",
    "import bs4\n",
    "from bs4 import BeautifulSoup"
   ]
  },
  {
   "cell_type": "code",
   "execution_count": 2,
   "metadata": {},
   "outputs": [],
   "source": [
    "#r = requests.get('https://book.douban.com/top250?icn=index-book250-all')\n",
    "#mypage = bs4.BeautifulSoup(r.text,'html.parser')\n",
    "#myname = mypage.find('div', attrs={'class':'pl2'}).find('a').text.strip()\n",
    "#myname"
   ]
  },
  {
   "cell_type": "code",
   "execution_count": 3,
   "metadata": {},
   "outputs": [],
   "source": [
    "def html_parse(url):\n",
    "    books = []\n",
    "    r = requests.get('https://book.douban.com/top250?icn=index-book250-all')\n",
    "    mypage = bs4.BeautifulSoup(r.text,'html.parser')\n",
    "    #mybooks = mypage.find_all('td', attrs={'valign':'top'})\n",
    "    myname = mypage.find('div', attrs={'class':'pl2'}).find('a').text.strip()#取出标题\n",
    "    myauthor = mypage.find('p', attrs={'class':'pl'}).text.strip().split(' / ')[0]#作者\n",
    "    mydate = mypage.find('p', attrs={'class':'pl'}).text.strip().split(' / ')[-2]#出版日期\n",
    "    myprice = mypage.find('p', attrs={'class':'pl'}).text.strip().split(' / ')[-1]#价格\n",
    "    myscore = mypage.find('span', attrs={'class':'rating_nums'}).text#评分\n",
    "    return books"
   ]
  },
  {
   "cell_type": "code",
   "execution_count": 4,
   "metadata": {},
   "outputs": [],
   "source": [
    "urllist = []\n",
    "for page in range (0, 250, 25):\n",
    "    base_url = 'https://book.douban.com/top250?start='\n",
    "    allurl = base_url + str(page)\n",
    "    urllist.append(allurl)       "
   ]
  },
  {
   "cell_type": "code",
   "execution_count": 5,
   "metadata": {},
   "outputs": [],
   "source": [
    "data = []\n",
    "for url in urllist:\n",
    "    my = html_parse(url)\n",
    "    data.extend(my)"
   ]
  },
  {
   "cell_type": "code",
   "execution_count": 6,
   "metadata": {},
   "outputs": [],
   "source": [
    "#写进csv文件\n",
    "with open('Douban ReadingTOP250.csv','w', newline = '') as f:\n",
    "    writer = csv.writer(f)\n",
    "    header = ['name', 'author', 'date', 'price', 'score']\n",
    "    writer.writerow(header)\n",
    "    writer.writerows(data)\n",
    "f.close()"
   ]
  }
 ],
 "metadata": {
  "kernelspec": {
   "display_name": "Python 3",
   "language": "python",
   "name": "python3"
  },
  "language_info": {
   "codemirror_mode": {
    "name": "ipython",
    "version": 3
   },
   "file_extension": ".py",
   "mimetype": "text/x-python",
   "name": "python",
   "nbconvert_exporter": "python",
   "pygments_lexer": "ipython3",
   "version": "3.7.0"
  }
 },
 "nbformat": 4,
 "nbformat_minor": 2
}
